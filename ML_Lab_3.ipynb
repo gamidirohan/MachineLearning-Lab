{
  "nbformat": 4,
  "nbformat_minor": 0,
  "metadata": {
    "colab": {
      "provenance": [],
      "authorship_tag": "ABX9TyMhfpnymWHhg8zvuP7t+zxr",
      "include_colab_link": true
    },
    "kernelspec": {
      "name": "python3",
      "display_name": "Python 3"
    },
    "language_info": {
      "name": "python"
    }
  },
  "cells": [
    {
      "cell_type": "markdown",
      "metadata": {
        "id": "view-in-github",
        "colab_type": "text"
      },
      "source": [
        "<a href=\"https://colab.research.google.com/github/gamidirohan/MachineLearning-Lab/blob/main/ML_Lab_3.ipynb\" target=\"_parent\"><img src=\"https://colab.research.google.com/assets/colab-badge.svg\" alt=\"Open In Colab\"/></a>"
      ]
    },
    {
      "cell_type": "markdown",
      "source": [
        "Working on Purchase Data:"
      ],
      "metadata": {
        "id": "dnUszkfWXqOd"
      }
    },
    {
      "cell_type": "code",
      "source": [
        "# import necessary libraries\n",
        "import pandas as pd\n",
        "import numpy as np"
      ],
      "metadata": {
        "id": "fATvo63rX0LS"
      },
      "execution_count": null,
      "outputs": []
    },
    {
      "cell_type": "code",
      "source": [
        "# Reading data into dataframes\n",
        "df = pd.read_excel('D:\\College\\Sem_4\\Machine Learning\\Labs\\Lab Session1 Data.xlsx', sheet_name = 'Purchase data', usecols = 'B:E')"
      ],
      "metadata": {
        "id": "XdY8rGBkYKGd"
      },
      "execution_count": null,
      "outputs": []
    },
    {
      "cell_type": "code",
      "source": [
        "A_columns = [\"Candies (#)\", \"Mangoes (Kg)\", \"Milk Packets (#)\"]\n",
        "matrix_A = df[A_columns].values\n",
        "\n",
        "C_columns = [\"Payment (Rs)\"]\n",
        "matrix_C = df[C_columns].values\n",
        "\n",
        "print(df)"
      ],
      "metadata": {
        "id": "Ah7r555AYLYf"
      },
      "execution_count": null,
      "outputs": []
    },
    {
      "cell_type": "markdown",
      "source": [
        "Q1.\n",
        "What is the dimensionality of the vector space for this data?\n",
        "How many vectors exist in this vector space?\n",
        "What is the rank of Matrix A?\n",
        "Using Pseudo-Inverse find the cost of each product available for sale."
      ],
      "metadata": {
        "id": "Prgh-yLrYMyn"
      }
    },
    {
      "cell_type": "code",
      "source": [
        "# Dimensionality of A\n",
        "dimensionality_of_A = matrix_A.shape[1]\n",
        "print(f\"Dimensionality of the data is: {dimensionality_of_A}\")\n",
        "\n",
        "# Number of vectors in vector space of A\n",
        "num_vecs_A = matrix_A.shape[0]\n",
        "print(f\"Number of vectors in the vector space: {num_vecs_A}\")"
      ],
      "metadata": {
        "id": "iEm3PNqXYQGb"
      },
      "execution_count": null,
      "outputs": []
    },
    {
      "cell_type": "code",
      "source": [
        "#  Rank of the matrix A\n",
        "rank_A = np.linalg.matrix_rank(matrix_A)\n",
        "print(f\"Rank of the matrix A: {rank_A}\")"
      ],
      "metadata": {
        "id": "2zIMMfBnYSXE"
      },
      "execution_count": null,
      "outputs": []
    },
    {
      "cell_type": "markdown",
      "source": [
        "Q2. Use the Pseudo-inverse to calculate the model vector X for predicting the cost of the products available with the vendor.\n",
        "inv_A is a pseudoinverse\n",
        "A * X = C\n",
        "X = inv_A * C"
      ],
      "metadata": {
        "id": "YBh3uC98YUdK"
      }
    },
    {
      "cell_type": "code",
      "source": [
        "inv_A = np.linalg.pinv(matrix_A)\n",
        "print(inv_A)"
      ],
      "metadata": {
        "id": "mxNBEoHBYWG4"
      },
      "execution_count": null,
      "outputs": []
    },
    {
      "cell_type": "code",
      "source": [
        "# Model Vector X\n",
        "X = np.dot(inv_A, matrix_C)\n",
        "print(X)"
      ],
      "metadata": {
        "id": "ggrzwHw0YXXY"
      },
      "execution_count": null,
      "outputs": []
    },
    {
      "cell_type": "markdown",
      "source": [
        "Q3. Marking all vectors with Payments more than 200 as RICH, and others as POOR"
      ],
      "metadata": {
        "id": "PM1j-L4WYa4j"
      }
    }
  ]
}