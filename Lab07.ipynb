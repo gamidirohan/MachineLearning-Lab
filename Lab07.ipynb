{
  "cells": [
    {
      "cell_type": "markdown",
      "metadata": {
        "id": "view-in-github",
        "colab_type": "text"
      },
      "source": [
        "<a href=\"https://colab.research.google.com/github/gamidirohan/MachineLearning-Lab/blob/main/Lab07.ipynb\" target=\"_parent\"><img src=\"https://colab.research.google.com/assets/colab-badge.svg\" alt=\"Open In Colab\"/></a>"
      ]
    },
    {
      "cell_type": "markdown",
      "metadata": {
        "id": "tfWMUssDtXBF"
      },
      "source": [
        "# A2."
      ]
    },
    {
      "cell_type": "markdown",
      "metadata": {
        "id": "qRjonoZ5nh6q"
      },
      "source": [
        "Importing necessary libraries"
      ]
    },
    {
      "cell_type": "code",
      "execution_count": 7,
      "metadata": {
        "id": "iJu9Ng5TtbUv"
      },
      "outputs": [],
      "source": [
        "import numpy as np\n",
        "import pandas as pd\n",
        "from sklearn.model_selection import train_test_split, RandomizedSearchCV\n",
        "from sklearn.neural_network import MLPClassifier\n",
        "from sklearn.linear_model import Perceptron\n",
        "from sklearn.metrics import classification_report\n",
        "import pickle\n",
        "import os"
      ]
    },
    {
      "cell_type": "markdown",
      "metadata": {
        "id": "RQUblTGjnlh-"
      },
      "source": [
        "Class Labels"
      ]
    },
    {
      "cell_type": "code",
      "execution_count": 8,
      "metadata": {
        "id": "4GaX1znBnn9q"
      },
      "outputs": [],
      "source": [
        "class_labels = [\"acrostic\", \"ballad\", \"epigram\", \"haiku\", \"limerick\", \"sestina\", \"sonnet\", \"villanelle\"]"
      ]
    },
    {
      "cell_type": "markdown",
      "metadata": {
        "id": "KaBcpg7RovH7"
      },
      "source": [
        "Evaluate model"
      ]
    },
    {
      "cell_type": "code",
      "execution_count": 9,
      "metadata": {
        "id": "8cJeVQjSo6Z1"
      },
      "outputs": [],
      "source": [
        "def evaluate_model(model, X_train, X_test, y_train, y_test, class_labels):\n",
        "    train_accuracy = model.score(X_train, y_train)\n",
        "    test_accuracy = model.score(X_test, y_test)\n",
        "    print(f\"Train Accuracy: {train_accuracy:.2f}\")\n",
        "    print(f\"Test Accuracy: {test_accuracy:.2f}\")\n",
        "\n",
        "    # Generate classification report\n",
        "    y_pred = model.predict(X_test)\n",
        "    report = classification_report(y_test, model.predict(X_test), target_names=class_labels, zero_division=1)\n",
        "    print(\"Classification Report:\")\n",
        "    print(report)"
      ]
    },
    {
      "cell_type": "markdown",
      "metadata": {
        "id": "NLEv3vk3o7WH"
      },
      "source": [
        "Save model as a .pkl file"
      ]
    },
    {
      "cell_type": "code",
      "execution_count": 10,
      "metadata": {
        "id": "9ItAkSIio9rv"
      },
      "outputs": [],
      "source": [
        "def save_model(model, model_file):\n",
        "    with open(model_file, 'wb') as f:\n",
        "        pickle.dump(model, f)\n",
        "    print(f\"Model saved as {model_file}\")"
      ]
    },
    {
      "cell_type": "markdown",
      "metadata": {
        "id": "9AjkOqRIpGQF"
      },
      "source": [
        "Load Embeddings from .csv"
      ]
    },
    {
      "cell_type": "code",
      "execution_count": 11,
      "metadata": {
        "id": "IKSmvLWyporp"
      },
      "outputs": [],
      "source": [
        "# Load the dataset into a DataFrame\n",
        "data_df = pd.read_csv(\"poems_data.csv\")\n",
        "\n",
        "# Drop rows with missing values\n",
        "data_df.dropna(inplace=True)\n",
        "\n",
        "# Extract features and target variable\n",
        "X = data_df.drop(columns=['label']).values\n",
        "y = data_df['label'].values"
      ]
    },
    {
      "cell_type": "markdown",
      "metadata": {
        "id": "YfHqeWkMptOP"
      },
      "source": [
        "Splitting data into Train and Test datasets"
      ]
    },
    {
      "cell_type": "code",
      "execution_count": 12,
      "metadata": {
        "id": "blkD-yaypvg-"
      },
      "outputs": [],
      "source": [
        "# Split data into train and test sets\n",
        "X_train, X_test, y_train, y_test = train_test_split(X, y, test_size=0.2, random_state=42)"
      ]
    },
    {
      "cell_type": "markdown",
      "metadata": {
        "id": "1G8vwd8XpyMK"
      },
      "source": [
        "Parameter Grid for MLP"
      ]
    },
    {
      "cell_type": "code",
      "execution_count": 13,
      "metadata": {
        "id": "xfmNukoSpzy9"
      },
      "outputs": [],
      "source": [
        "mlp_param_grid = {\n",
        "    'hidden_layer_sizes': [(50,), (100,), (150,), (200,)],\n",
        "    'activation': ['relu', 'tanh'],\n",
        "    'solver': ['adam', 'sgd'],\n",
        "    'learning_rate': ['constant', 'adaptive'],\n",
        "    'learning_rate_init': [0.001, 0.01, 0.1]\n",
        "}"
      ]
    },
    {
      "cell_type": "markdown",
      "metadata": {
        "id": "Qsg2eToCp299"
      },
      "source": [
        "RandomSearchCV for MLP"
      ]
    },
    {
      "cell_type": "code",
      "execution_count": 14,
      "metadata": {
        "id": "lrlv0sLVp5WS",
        "colab": {
          "base_uri": "https://localhost:8080/",
          "height": 189
        },
        "outputId": "bc0e9877-8e09-4790-f55c-fd1a6a999d39"
      },
      "outputs": [
        {
          "output_type": "stream",
          "name": "stdout",
          "text": [
            "Fitting 5 folds for each of 10 candidates, totalling 50 fits\n"
          ]
        },
        {
          "output_type": "stream",
          "name": "stderr",
          "text": [
            "/usr/local/lib/python3.10/dist-packages/sklearn/neural_network/_multilayer_perceptron.py:686: ConvergenceWarning: Stochastic Optimizer: Maximum iterations (200) reached and the optimization hasn't converged yet.\n",
            "  warnings.warn(\n"
          ]
        },
        {
          "output_type": "execute_result",
          "data": {
            "text/plain": [
              "RandomizedSearchCV(cv=5, estimator=MLPClassifier(), n_jobs=-1,\n",
              "                   param_distributions={'activation': ['relu', 'tanh'],\n",
              "                                        'hidden_layer_sizes': [(50,), (100,),\n",
              "                                                               (150,), (200,)],\n",
              "                                        'learning_rate': ['constant',\n",
              "                                                          'adaptive'],\n",
              "                                        'learning_rate_init': [0.001, 0.01,\n",
              "                                                               0.1],\n",
              "                                        'solver': ['adam', 'sgd']},\n",
              "                   random_state=42, scoring='accuracy', verbose=2)"
            ],
            "text/html": [
              "<style>#sk-container-id-1 {color: black;background-color: white;}#sk-container-id-1 pre{padding: 0;}#sk-container-id-1 div.sk-toggleable {background-color: white;}#sk-container-id-1 label.sk-toggleable__label {cursor: pointer;display: block;width: 100%;margin-bottom: 0;padding: 0.3em;box-sizing: border-box;text-align: center;}#sk-container-id-1 label.sk-toggleable__label-arrow:before {content: \"▸\";float: left;margin-right: 0.25em;color: #696969;}#sk-container-id-1 label.sk-toggleable__label-arrow:hover:before {color: black;}#sk-container-id-1 div.sk-estimator:hover label.sk-toggleable__label-arrow:before {color: black;}#sk-container-id-1 div.sk-toggleable__content {max-height: 0;max-width: 0;overflow: hidden;text-align: left;background-color: #f0f8ff;}#sk-container-id-1 div.sk-toggleable__content pre {margin: 0.2em;color: black;border-radius: 0.25em;background-color: #f0f8ff;}#sk-container-id-1 input.sk-toggleable__control:checked~div.sk-toggleable__content {max-height: 200px;max-width: 100%;overflow: auto;}#sk-container-id-1 input.sk-toggleable__control:checked~label.sk-toggleable__label-arrow:before {content: \"▾\";}#sk-container-id-1 div.sk-estimator input.sk-toggleable__control:checked~label.sk-toggleable__label {background-color: #d4ebff;}#sk-container-id-1 div.sk-label input.sk-toggleable__control:checked~label.sk-toggleable__label {background-color: #d4ebff;}#sk-container-id-1 input.sk-hidden--visually {border: 0;clip: rect(1px 1px 1px 1px);clip: rect(1px, 1px, 1px, 1px);height: 1px;margin: -1px;overflow: hidden;padding: 0;position: absolute;width: 1px;}#sk-container-id-1 div.sk-estimator {font-family: monospace;background-color: #f0f8ff;border: 1px dotted black;border-radius: 0.25em;box-sizing: border-box;margin-bottom: 0.5em;}#sk-container-id-1 div.sk-estimator:hover {background-color: #d4ebff;}#sk-container-id-1 div.sk-parallel-item::after {content: \"\";width: 100%;border-bottom: 1px solid gray;flex-grow: 1;}#sk-container-id-1 div.sk-label:hover label.sk-toggleable__label {background-color: #d4ebff;}#sk-container-id-1 div.sk-serial::before {content: \"\";position: absolute;border-left: 1px solid gray;box-sizing: border-box;top: 0;bottom: 0;left: 50%;z-index: 0;}#sk-container-id-1 div.sk-serial {display: flex;flex-direction: column;align-items: center;background-color: white;padding-right: 0.2em;padding-left: 0.2em;position: relative;}#sk-container-id-1 div.sk-item {position: relative;z-index: 1;}#sk-container-id-1 div.sk-parallel {display: flex;align-items: stretch;justify-content: center;background-color: white;position: relative;}#sk-container-id-1 div.sk-item::before, #sk-container-id-1 div.sk-parallel-item::before {content: \"\";position: absolute;border-left: 1px solid gray;box-sizing: border-box;top: 0;bottom: 0;left: 50%;z-index: -1;}#sk-container-id-1 div.sk-parallel-item {display: flex;flex-direction: column;z-index: 1;position: relative;background-color: white;}#sk-container-id-1 div.sk-parallel-item:first-child::after {align-self: flex-end;width: 50%;}#sk-container-id-1 div.sk-parallel-item:last-child::after {align-self: flex-start;width: 50%;}#sk-container-id-1 div.sk-parallel-item:only-child::after {width: 0;}#sk-container-id-1 div.sk-dashed-wrapped {border: 1px dashed gray;margin: 0 0.4em 0.5em 0.4em;box-sizing: border-box;padding-bottom: 0.4em;background-color: white;}#sk-container-id-1 div.sk-label label {font-family: monospace;font-weight: bold;display: inline-block;line-height: 1.2em;}#sk-container-id-1 div.sk-label-container {text-align: center;}#sk-container-id-1 div.sk-container {/* jupyter's `normalize.less` sets `[hidden] { display: none; }` but bootstrap.min.css set `[hidden] { display: none !important; }` so we also need the `!important` here to be able to override the default hidden behavior on the sphinx rendered scikit-learn.org. See: https://github.com/scikit-learn/scikit-learn/issues/21755 */display: inline-block !important;position: relative;}#sk-container-id-1 div.sk-text-repr-fallback {display: none;}</style><div id=\"sk-container-id-1\" class=\"sk-top-container\"><div class=\"sk-text-repr-fallback\"><pre>RandomizedSearchCV(cv=5, estimator=MLPClassifier(), n_jobs=-1,\n",
              "                   param_distributions={&#x27;activation&#x27;: [&#x27;relu&#x27;, &#x27;tanh&#x27;],\n",
              "                                        &#x27;hidden_layer_sizes&#x27;: [(50,), (100,),\n",
              "                                                               (150,), (200,)],\n",
              "                                        &#x27;learning_rate&#x27;: [&#x27;constant&#x27;,\n",
              "                                                          &#x27;adaptive&#x27;],\n",
              "                                        &#x27;learning_rate_init&#x27;: [0.001, 0.01,\n",
              "                                                               0.1],\n",
              "                                        &#x27;solver&#x27;: [&#x27;adam&#x27;, &#x27;sgd&#x27;]},\n",
              "                   random_state=42, scoring=&#x27;accuracy&#x27;, verbose=2)</pre><b>In a Jupyter environment, please rerun this cell to show the HTML representation or trust the notebook. <br />On GitHub, the HTML representation is unable to render, please try loading this page with nbviewer.org.</b></div><div class=\"sk-container\" hidden><div class=\"sk-item sk-dashed-wrapped\"><div class=\"sk-label-container\"><div class=\"sk-label sk-toggleable\"><input class=\"sk-toggleable__control sk-hidden--visually\" id=\"sk-estimator-id-1\" type=\"checkbox\" ><label for=\"sk-estimator-id-1\" class=\"sk-toggleable__label sk-toggleable__label-arrow\">RandomizedSearchCV</label><div class=\"sk-toggleable__content\"><pre>RandomizedSearchCV(cv=5, estimator=MLPClassifier(), n_jobs=-1,\n",
              "                   param_distributions={&#x27;activation&#x27;: [&#x27;relu&#x27;, &#x27;tanh&#x27;],\n",
              "                                        &#x27;hidden_layer_sizes&#x27;: [(50,), (100,),\n",
              "                                                               (150,), (200,)],\n",
              "                                        &#x27;learning_rate&#x27;: [&#x27;constant&#x27;,\n",
              "                                                          &#x27;adaptive&#x27;],\n",
              "                                        &#x27;learning_rate_init&#x27;: [0.001, 0.01,\n",
              "                                                               0.1],\n",
              "                                        &#x27;solver&#x27;: [&#x27;adam&#x27;, &#x27;sgd&#x27;]},\n",
              "                   random_state=42, scoring=&#x27;accuracy&#x27;, verbose=2)</pre></div></div></div><div class=\"sk-parallel\"><div class=\"sk-parallel-item\"><div class=\"sk-item\"><div class=\"sk-label-container\"><div class=\"sk-label sk-toggleable\"><input class=\"sk-toggleable__control sk-hidden--visually\" id=\"sk-estimator-id-2\" type=\"checkbox\" ><label for=\"sk-estimator-id-2\" class=\"sk-toggleable__label sk-toggleable__label-arrow\">estimator: MLPClassifier</label><div class=\"sk-toggleable__content\"><pre>MLPClassifier()</pre></div></div></div><div class=\"sk-serial\"><div class=\"sk-item\"><div class=\"sk-estimator sk-toggleable\"><input class=\"sk-toggleable__control sk-hidden--visually\" id=\"sk-estimator-id-3\" type=\"checkbox\" ><label for=\"sk-estimator-id-3\" class=\"sk-toggleable__label sk-toggleable__label-arrow\">MLPClassifier</label><div class=\"sk-toggleable__content\"><pre>MLPClassifier()</pre></div></div></div></div></div></div></div></div></div></div>"
            ]
          },
          "metadata": {},
          "execution_count": 14
        }
      ],
      "source": [
        "mlp_random_search = RandomizedSearchCV(\n",
        "    estimator=MLPClassifier(),\n",
        "    param_distributions=mlp_param_grid,\n",
        "    n_iter=10,\n",
        "    scoring='accuracy',\n",
        "    cv=5,\n",
        "    verbose=2,\n",
        "    random_state=42,\n",
        "    n_jobs=-1\n",
        ")\n",
        "mlp_random_search.fit(X_train, y_train)"
      ]
    },
    {
      "cell_type": "markdown",
      "metadata": {
        "id": "A48Ugva9p8WV"
      },
      "source": [
        "Print MLP best Parameters"
      ]
    },
    {
      "cell_type": "code",
      "execution_count": 15,
      "metadata": {
        "id": "YdqTs5jFp9_W",
        "colab": {
          "base_uri": "https://localhost:8080/"
        },
        "outputId": "b6586ecc-28a0-4c42-efef-e45aaafd6015"
      },
      "outputs": [
        {
          "output_type": "stream",
          "name": "stdout",
          "text": [
            "Best parameters for MLP:\n",
            "{'solver': 'adam', 'learning_rate_init': 0.001, 'learning_rate': 'adaptive', 'hidden_layer_sizes': (200,), 'activation': 'relu'}\n"
          ]
        }
      ],
      "source": [
        "print(\"Best parameters for MLP:\")\n",
        "print(mlp_random_search.best_params_)"
      ]
    },
    {
      "cell_type": "markdown",
      "metadata": {
        "id": "olq8F_gUp-sQ"
      },
      "source": [
        "Evaluate MLP with best parameters"
      ]
    },
    {
      "cell_type": "code",
      "execution_count": 16,
      "metadata": {
        "id": "EstOjZblqFLA",
        "colab": {
          "base_uri": "https://localhost:8080/"
        },
        "outputId": "1e793e7c-bf9c-4b03-f221-b49791235f27"
      },
      "outputs": [
        {
          "output_type": "stream",
          "name": "stdout",
          "text": [
            "Evaluating MLP...\n",
            "Train Accuracy: 1.00\n",
            "Test Accuracy: 0.85\n",
            "Classification Report:\n",
            "              precision    recall  f1-score   support\n",
            "\n",
            "    acrostic       0.95      0.79      0.86        24\n",
            "      ballad       0.58      0.85      0.69        13\n",
            "     epigram       0.76      0.80      0.78        20\n",
            "       haiku       0.77      0.91      0.83        22\n",
            "    limerick       1.00      0.94      0.97        18\n",
            "     sestina       0.90      0.90      0.90        21\n",
            "      sonnet       1.00      0.73      0.85        15\n",
            "  villanelle       0.95      0.86      0.90        22\n",
            "\n",
            "    accuracy                           0.85       155\n",
            "   macro avg       0.86      0.85      0.85       155\n",
            "weighted avg       0.87      0.85      0.86       155\n",
            "\n"
          ]
        }
      ],
      "source": [
        "mlp_model = mlp_random_search.best_estimator_\n",
        "print(\"Evaluating MLP...\")\n",
        "evaluate_model(mlp_model, X_train, X_test, y_train, y_test, class_labels)"
      ]
    },
    {
      "cell_type": "markdown",
      "metadata": {
        "id": "3LQjZe_PqG_f"
      },
      "source": [
        "Save MLP model as .pkl"
      ]
    },
    {
      "cell_type": "code",
      "execution_count": 17,
      "metadata": {
        "id": "AMyi4vXsqIpZ",
        "colab": {
          "base_uri": "https://localhost:8080/"
        },
        "outputId": "436c7d02-2261-444d-ec41-b8602fda521c"
      },
      "outputs": [
        {
          "output_type": "stream",
          "name": "stdout",
          "text": [
            "Model saved as mlp_model.pkl\n"
          ]
        }
      ],
      "source": [
        "mlp_model_file = \"mlp_model.pkl\"\n",
        "save_model(mlp_model, mlp_model_file)"
      ]
    },
    {
      "cell_type": "markdown",
      "metadata": {
        "id": "YxRY0vC3qK7y"
      },
      "source": [
        "Defining parameter grid for Perceptron"
      ]
    },
    {
      "cell_type": "code",
      "execution_count": 18,
      "metadata": {
        "id": "_FpwGN4FqNUf"
      },
      "outputs": [],
      "source": [
        "perceptron_param_grid = {\n",
        "    'alpha': [0.0001, 0.001, 0.01, 0.1],\n",
        "    'max_iter': [1000, 2000, 3000],\n",
        "    'tol': [1e-3, 1e-4, 1e-5]\n",
        "}"
      ]
    },
    {
      "cell_type": "markdown",
      "metadata": {
        "id": "SsPPRR2VqQaT"
      },
      "source": [
        "Perform RandsearchCV for Perceptron"
      ]
    },
    {
      "cell_type": "code",
      "execution_count": 19,
      "metadata": {
        "id": "hvns8g-GqTj9",
        "colab": {
          "base_uri": "https://localhost:8080/",
          "height": 134
        },
        "outputId": "1cbafd19-1414-47d1-a0aa-7a12360b85be"
      },
      "outputs": [
        {
          "output_type": "stream",
          "name": "stdout",
          "text": [
            "Fitting 5 folds for each of 10 candidates, totalling 50 fits\n"
          ]
        },
        {
          "output_type": "execute_result",
          "data": {
            "text/plain": [
              "RandomizedSearchCV(cv=5, estimator=Perceptron(), n_jobs=-1,\n",
              "                   param_distributions={'alpha': [0.0001, 0.001, 0.01, 0.1],\n",
              "                                        'max_iter': [1000, 2000, 3000],\n",
              "                                        'tol': [0.001, 0.0001, 1e-05]},\n",
              "                   random_state=42, scoring='accuracy', verbose=2)"
            ],
            "text/html": [
              "<style>#sk-container-id-2 {color: black;background-color: white;}#sk-container-id-2 pre{padding: 0;}#sk-container-id-2 div.sk-toggleable {background-color: white;}#sk-container-id-2 label.sk-toggleable__label {cursor: pointer;display: block;width: 100%;margin-bottom: 0;padding: 0.3em;box-sizing: border-box;text-align: center;}#sk-container-id-2 label.sk-toggleable__label-arrow:before {content: \"▸\";float: left;margin-right: 0.25em;color: #696969;}#sk-container-id-2 label.sk-toggleable__label-arrow:hover:before {color: black;}#sk-container-id-2 div.sk-estimator:hover label.sk-toggleable__label-arrow:before {color: black;}#sk-container-id-2 div.sk-toggleable__content {max-height: 0;max-width: 0;overflow: hidden;text-align: left;background-color: #f0f8ff;}#sk-container-id-2 div.sk-toggleable__content pre {margin: 0.2em;color: black;border-radius: 0.25em;background-color: #f0f8ff;}#sk-container-id-2 input.sk-toggleable__control:checked~div.sk-toggleable__content {max-height: 200px;max-width: 100%;overflow: auto;}#sk-container-id-2 input.sk-toggleable__control:checked~label.sk-toggleable__label-arrow:before {content: \"▾\";}#sk-container-id-2 div.sk-estimator input.sk-toggleable__control:checked~label.sk-toggleable__label {background-color: #d4ebff;}#sk-container-id-2 div.sk-label input.sk-toggleable__control:checked~label.sk-toggleable__label {background-color: #d4ebff;}#sk-container-id-2 input.sk-hidden--visually {border: 0;clip: rect(1px 1px 1px 1px);clip: rect(1px, 1px, 1px, 1px);height: 1px;margin: -1px;overflow: hidden;padding: 0;position: absolute;width: 1px;}#sk-container-id-2 div.sk-estimator {font-family: monospace;background-color: #f0f8ff;border: 1px dotted black;border-radius: 0.25em;box-sizing: border-box;margin-bottom: 0.5em;}#sk-container-id-2 div.sk-estimator:hover {background-color: #d4ebff;}#sk-container-id-2 div.sk-parallel-item::after {content: \"\";width: 100%;border-bottom: 1px solid gray;flex-grow: 1;}#sk-container-id-2 div.sk-label:hover label.sk-toggleable__label {background-color: #d4ebff;}#sk-container-id-2 div.sk-serial::before {content: \"\";position: absolute;border-left: 1px solid gray;box-sizing: border-box;top: 0;bottom: 0;left: 50%;z-index: 0;}#sk-container-id-2 div.sk-serial {display: flex;flex-direction: column;align-items: center;background-color: white;padding-right: 0.2em;padding-left: 0.2em;position: relative;}#sk-container-id-2 div.sk-item {position: relative;z-index: 1;}#sk-container-id-2 div.sk-parallel {display: flex;align-items: stretch;justify-content: center;background-color: white;position: relative;}#sk-container-id-2 div.sk-item::before, #sk-container-id-2 div.sk-parallel-item::before {content: \"\";position: absolute;border-left: 1px solid gray;box-sizing: border-box;top: 0;bottom: 0;left: 50%;z-index: -1;}#sk-container-id-2 div.sk-parallel-item {display: flex;flex-direction: column;z-index: 1;position: relative;background-color: white;}#sk-container-id-2 div.sk-parallel-item:first-child::after {align-self: flex-end;width: 50%;}#sk-container-id-2 div.sk-parallel-item:last-child::after {align-self: flex-start;width: 50%;}#sk-container-id-2 div.sk-parallel-item:only-child::after {width: 0;}#sk-container-id-2 div.sk-dashed-wrapped {border: 1px dashed gray;margin: 0 0.4em 0.5em 0.4em;box-sizing: border-box;padding-bottom: 0.4em;background-color: white;}#sk-container-id-2 div.sk-label label {font-family: monospace;font-weight: bold;display: inline-block;line-height: 1.2em;}#sk-container-id-2 div.sk-label-container {text-align: center;}#sk-container-id-2 div.sk-container {/* jupyter's `normalize.less` sets `[hidden] { display: none; }` but bootstrap.min.css set `[hidden] { display: none !important; }` so we also need the `!important` here to be able to override the default hidden behavior on the sphinx rendered scikit-learn.org. See: https://github.com/scikit-learn/scikit-learn/issues/21755 */display: inline-block !important;position: relative;}#sk-container-id-2 div.sk-text-repr-fallback {display: none;}</style><div id=\"sk-container-id-2\" class=\"sk-top-container\"><div class=\"sk-text-repr-fallback\"><pre>RandomizedSearchCV(cv=5, estimator=Perceptron(), n_jobs=-1,\n",
              "                   param_distributions={&#x27;alpha&#x27;: [0.0001, 0.001, 0.01, 0.1],\n",
              "                                        &#x27;max_iter&#x27;: [1000, 2000, 3000],\n",
              "                                        &#x27;tol&#x27;: [0.001, 0.0001, 1e-05]},\n",
              "                   random_state=42, scoring=&#x27;accuracy&#x27;, verbose=2)</pre><b>In a Jupyter environment, please rerun this cell to show the HTML representation or trust the notebook. <br />On GitHub, the HTML representation is unable to render, please try loading this page with nbviewer.org.</b></div><div class=\"sk-container\" hidden><div class=\"sk-item sk-dashed-wrapped\"><div class=\"sk-label-container\"><div class=\"sk-label sk-toggleable\"><input class=\"sk-toggleable__control sk-hidden--visually\" id=\"sk-estimator-id-4\" type=\"checkbox\" ><label for=\"sk-estimator-id-4\" class=\"sk-toggleable__label sk-toggleable__label-arrow\">RandomizedSearchCV</label><div class=\"sk-toggleable__content\"><pre>RandomizedSearchCV(cv=5, estimator=Perceptron(), n_jobs=-1,\n",
              "                   param_distributions={&#x27;alpha&#x27;: [0.0001, 0.001, 0.01, 0.1],\n",
              "                                        &#x27;max_iter&#x27;: [1000, 2000, 3000],\n",
              "                                        &#x27;tol&#x27;: [0.001, 0.0001, 1e-05]},\n",
              "                   random_state=42, scoring=&#x27;accuracy&#x27;, verbose=2)</pre></div></div></div><div class=\"sk-parallel\"><div class=\"sk-parallel-item\"><div class=\"sk-item\"><div class=\"sk-label-container\"><div class=\"sk-label sk-toggleable\"><input class=\"sk-toggleable__control sk-hidden--visually\" id=\"sk-estimator-id-5\" type=\"checkbox\" ><label for=\"sk-estimator-id-5\" class=\"sk-toggleable__label sk-toggleable__label-arrow\">estimator: Perceptron</label><div class=\"sk-toggleable__content\"><pre>Perceptron()</pre></div></div></div><div class=\"sk-serial\"><div class=\"sk-item\"><div class=\"sk-estimator sk-toggleable\"><input class=\"sk-toggleable__control sk-hidden--visually\" id=\"sk-estimator-id-6\" type=\"checkbox\" ><label for=\"sk-estimator-id-6\" class=\"sk-toggleable__label sk-toggleable__label-arrow\">Perceptron</label><div class=\"sk-toggleable__content\"><pre>Perceptron()</pre></div></div></div></div></div></div></div></div></div></div>"
            ]
          },
          "metadata": {},
          "execution_count": 19
        }
      ],
      "source": [
        "perceptron_random_search = RandomizedSearchCV(\n",
        "    estimator=Perceptron(),\n",
        "    param_distributions=perceptron_param_grid,\n",
        "    n_iter=10,\n",
        "    scoring='accuracy',\n",
        "    cv=5,\n",
        "    verbose=2,\n",
        "    random_state=42,\n",
        "    n_jobs=-1\n",
        ")\n",
        "perceptron_random_search.fit(X_train, y_train)"
      ]
    },
    {
      "cell_type": "markdown",
      "metadata": {
        "id": "MKU0XJETqWil"
      },
      "source": [
        "Printing best Perceptron Parameters"
      ]
    },
    {
      "cell_type": "code",
      "execution_count": 20,
      "metadata": {
        "id": "5lCdtPvhqaVA",
        "colab": {
          "base_uri": "https://localhost:8080/"
        },
        "outputId": "94c1a7d7-a8b7-44ce-b106-78df6d5f3976"
      },
      "outputs": [
        {
          "output_type": "stream",
          "name": "stdout",
          "text": [
            "Best parameters for Perceptron:\n",
            "{'tol': 1e-05, 'max_iter': 3000, 'alpha': 0.1}\n"
          ]
        }
      ],
      "source": [
        "print(\"Best parameters for Perceptron:\")\n",
        "print(perceptron_random_search.best_params_)"
      ]
    },
    {
      "cell_type": "markdown",
      "metadata": {
        "id": "StDeCRY7qdFS"
      },
      "source": [
        "Evaluate Perceptron with best Parameters"
      ]
    },
    {
      "cell_type": "code",
      "execution_count": 21,
      "metadata": {
        "id": "0ZPepuWAqfo4",
        "colab": {
          "base_uri": "https://localhost:8080/"
        },
        "outputId": "6d185c56-d97f-4796-8dd0-1b497a3dd8e0"
      },
      "outputs": [
        {
          "output_type": "stream",
          "name": "stdout",
          "text": [
            "Evaluating Perceptron...\n",
            "Train Accuracy: 0.31\n",
            "Test Accuracy: 0.26\n",
            "Classification Report:\n",
            "              precision    recall  f1-score   support\n",
            "\n",
            "    acrostic       1.00      0.00      0.00        24\n",
            "      ballad       0.38      0.23      0.29        13\n",
            "     epigram       0.15      0.65      0.24        20\n",
            "       haiku       1.00      0.05      0.09        22\n",
            "    limerick       0.33      0.06      0.10        18\n",
            "     sestina       1.00      0.00      0.00        21\n",
            "      sonnet       0.29      0.87      0.43        15\n",
            "  villanelle       0.91      0.45      0.61        22\n",
            "\n",
            "    accuracy                           0.26       155\n",
            "   macro avg       0.63      0.29      0.22       155\n",
            "weighted avg       0.68      0.26      0.21       155\n",
            "\n"
          ]
        }
      ],
      "source": [
        "perceptron_model = perceptron_random_search.best_estimator_\n",
        "print(\"Evaluating Perceptron...\")\n",
        "evaluate_model(perceptron_model, X_train, X_test, y_train, y_test, class_labels)"
      ]
    },
    {
      "cell_type": "markdown",
      "metadata": {
        "id": "NWy5pdKFqh3N"
      },
      "source": [
        "Save model as .pkl"
      ]
    },
    {
      "cell_type": "code",
      "execution_count": 22,
      "metadata": {
        "id": "9Y_DfyE_qjne",
        "colab": {
          "base_uri": "https://localhost:8080/"
        },
        "outputId": "ed5ec888-45b4-4a5d-a753-122ef6e8ccc7"
      },
      "outputs": [
        {
          "output_type": "stream",
          "name": "stdout",
          "text": [
            "Model saved as perceptron_model.pkl\n"
          ]
        }
      ],
      "source": [
        "perceptron_model_file = \"perceptron_model.pkl\"\n",
        "save_model(perceptron_model, perceptron_model_file)"
      ]
    },
    {
      "cell_type": "markdown",
      "metadata": {
        "id": "AOV8DJMvsdFV"
      },
      "source": [
        "## A3"
      ]
    },
    {
      "cell_type": "markdown",
      "metadata": {
        "id": "akkfHI_ase0X"
      },
      "source": [
        "Import necessary libraries"
      ]
    },
    {
      "cell_type": "code",
      "execution_count": 23,
      "metadata": {
        "colab": {
          "base_uri": "https://localhost:8080/"
        },
        "id": "yJ_GYNqIsg7W",
        "outputId": "d87712f8-dcb1-40e6-b072-a4de56214ed9"
      },
      "outputs": [
        {
          "output_type": "stream",
          "name": "stdout",
          "text": [
            "Collecting catboost\n",
            "  Downloading catboost-1.2.5-cp310-cp310-manylinux2014_x86_64.whl (98.2 MB)\n",
            "\u001b[2K     \u001b[90m━━━━━━━━━━━━━━━━━━━━━━━━━━━━━━━━━━━━━━━━\u001b[0m \u001b[32m98.2/98.2 MB\u001b[0m \u001b[31m8.3 MB/s\u001b[0m eta \u001b[36m0:00:00\u001b[0m\n",
            "\u001b[?25hRequirement already satisfied: graphviz in /usr/local/lib/python3.10/dist-packages (from catboost) (0.20.3)\n",
            "Requirement already satisfied: matplotlib in /usr/local/lib/python3.10/dist-packages (from catboost) (3.7.1)\n",
            "Requirement already satisfied: numpy>=1.16.0 in /usr/local/lib/python3.10/dist-packages (from catboost) (1.25.2)\n",
            "Requirement already satisfied: pandas>=0.24 in /usr/local/lib/python3.10/dist-packages (from catboost) (2.0.3)\n",
            "Requirement already satisfied: scipy in /usr/local/lib/python3.10/dist-packages (from catboost) (1.11.4)\n",
            "Requirement already satisfied: plotly in /usr/local/lib/python3.10/dist-packages (from catboost) (5.15.0)\n",
            "Requirement already satisfied: six in /usr/local/lib/python3.10/dist-packages (from catboost) (1.16.0)\n",
            "Requirement already satisfied: python-dateutil>=2.8.2 in /usr/local/lib/python3.10/dist-packages (from pandas>=0.24->catboost) (2.8.2)\n",
            "Requirement already satisfied: pytz>=2020.1 in /usr/local/lib/python3.10/dist-packages (from pandas>=0.24->catboost) (2023.4)\n",
            "Requirement already satisfied: tzdata>=2022.1 in /usr/local/lib/python3.10/dist-packages (from pandas>=0.24->catboost) (2024.1)\n",
            "Requirement already satisfied: contourpy>=1.0.1 in /usr/local/lib/python3.10/dist-packages (from matplotlib->catboost) (1.2.1)\n",
            "Requirement already satisfied: cycler>=0.10 in /usr/local/lib/python3.10/dist-packages (from matplotlib->catboost) (0.12.1)\n",
            "Requirement already satisfied: fonttools>=4.22.0 in /usr/local/lib/python3.10/dist-packages (from matplotlib->catboost) (4.51.0)\n",
            "Requirement already satisfied: kiwisolver>=1.0.1 in /usr/local/lib/python3.10/dist-packages (from matplotlib->catboost) (1.4.5)\n",
            "Requirement already satisfied: packaging>=20.0 in /usr/local/lib/python3.10/dist-packages (from matplotlib->catboost) (24.0)\n",
            "Requirement already satisfied: pillow>=6.2.0 in /usr/local/lib/python3.10/dist-packages (from matplotlib->catboost) (9.4.0)\n",
            "Requirement already satisfied: pyparsing>=2.3.1 in /usr/local/lib/python3.10/dist-packages (from matplotlib->catboost) (3.1.2)\n",
            "Requirement already satisfied: tenacity>=6.2.0 in /usr/local/lib/python3.10/dist-packages (from plotly->catboost) (8.2.3)\n",
            "Installing collected packages: catboost\n",
            "Successfully installed catboost-1.2.5\n",
            "Collecting XlsxWriter\n",
            "  Downloading XlsxWriter-3.2.0-py3-none-any.whl (159 kB)\n",
            "\u001b[2K     \u001b[90m━━━━━━━━━━━━━━━━━━━━━━━━━━━━━━━━━━━━━━━━\u001b[0m \u001b[32m159.9/159.9 kB\u001b[0m \u001b[31m3.7 MB/s\u001b[0m eta \u001b[36m0:00:00\u001b[0m\n",
            "\u001b[?25hInstalling collected packages: XlsxWriter\n",
            "Successfully installed XlsxWriter-3.2.0\n"
          ]
        }
      ],
      "source": [
        "!pip install catboost\n",
        "!pip install XlsxWriter\n",
        "\n",
        "from sklearn.preprocessing import MinMaxScaler\n",
        "from sklearn.naive_bayes import MultinomialNB\n",
        "from sklearn.svm import SVC\n",
        "from sklearn.tree import DecisionTreeClassifier\n",
        "from sklearn.ensemble import RandomForestClassifier, AdaBoostClassifier\n",
        "from catboost import CatBoostClassifier\n",
        "from sklearn.preprocessing import LabelEncoder\n",
        "from xgboost import XGBClassifier"
      ]
    },
    {
      "cell_type": "markdown",
      "metadata": {
        "id": "9OmfLmMmsh2e"
      },
      "source": [
        "Applying MinMax scaling on input data for Naive-Bayes (Since it doesn't take negative values)"
      ]
    },
    {
      "cell_type": "code",
      "execution_count": 24,
      "metadata": {
        "id": "9KwxuvmatOlQ"
      },
      "outputs": [],
      "source": [
        "def scale_MinMax(X_train, X_test):\n",
        "  scaler = MinMaxScaler()\n",
        "  X_train_scaled = scaler.fit_transform(X_train)\n",
        "  X_test_scaled = scaler.transform(X_test)\n",
        "  return X_train_scaled, X_test_scaled"
      ]
    },
    {
      "cell_type": "markdown",
      "metadata": {
        "id": "2Ku4G43BtR6j"
      },
      "source": [
        "Initializing all classifiers"
      ]
    },
    {
      "cell_type": "code",
      "execution_count": 25,
      "metadata": {
        "id": "s6AHCr8vtTsL"
      },
      "outputs": [],
      "source": [
        "classifiers = {\n",
        "    \"Naive Bayes\": MultinomialNB(),\n",
        "    \"Support Vector Machine\": SVC(),\n",
        "    \"Decision Tree\": DecisionTreeClassifier(),\n",
        "    \"Random Forest\": RandomForestClassifier(),\n",
        "    \"AdaBoost\": AdaBoostClassifier(),\n",
        "    \"XGBoost\": XGBClassifier(use_label_encoder=True, eval_metric='mlogloss'),\n",
        "    \"CatBoost\": CatBoostClassifier(logging_level='Silent')\n",
        "}"
      ]
    },
    {
      "cell_type": "markdown",
      "metadata": {
        "id": "mk4jPO_-tUi8"
      },
      "source": [
        "Train and evaluate all classifiers"
      ]
    },
    {
      "cell_type": "code",
      "execution_count": 26,
      "metadata": {
        "id": "mojFI1HNtYbf",
        "colab": {
          "base_uri": "https://localhost:8080/"
        },
        "outputId": "3460d520-bec8-4f45-d34b-8517cdf5231f"
      },
      "outputs": [
        {
          "output_type": "stream",
          "name": "stdout",
          "text": [
            "Tuning hyperparameters for Naive Bayes...\n",
            "Train Accuracy: 0.75\n",
            "Test Accuracy: 0.68\n",
            "Classification Report for Naive Bayes:\n",
            "              precision    recall  f1-score   support\n",
            "\n",
            "    acrostic       0.70      0.58      0.64        24\n",
            "      ballad       0.53      0.69      0.60        13\n",
            "     epigram       0.71      0.25      0.37        20\n",
            "       haiku       0.63      0.86      0.73        22\n",
            "    limerick       0.94      0.94      0.94        18\n",
            "     sestina       0.65      0.81      0.72        21\n",
            "      sonnet       0.57      0.87      0.68        15\n",
            "  villanelle       0.86      0.55      0.67        22\n",
            "\n",
            "    accuracy                           0.68       155\n",
            "   macro avg       0.70      0.69      0.67       155\n",
            "weighted avg       0.71      0.68      0.67       155\n",
            "\n",
            "Tuning hyperparameters for Support Vector Machine...\n",
            "Train Accuracy: 0.97\n",
            "Test Accuracy: 0.81\n",
            "Classification Report for Support Vector Machine:\n",
            "              precision    recall  f1-score   support\n",
            "\n",
            "    acrostic       0.90      0.79      0.84        24\n",
            "      ballad       0.61      0.85      0.71        13\n",
            "     epigram       0.78      0.70      0.74        20\n",
            "       haiku       0.74      0.91      0.82        22\n",
            "    limerick       1.00      0.94      0.97        18\n",
            "     sestina       0.79      0.90      0.84        21\n",
            "      sonnet       0.76      0.87      0.81        15\n",
            "  villanelle       1.00      0.59      0.74        22\n",
            "\n",
            "    accuracy                           0.81       155\n",
            "   macro avg       0.82      0.82      0.81       155\n",
            "weighted avg       0.84      0.81      0.81       155\n",
            "\n",
            "Tuning hyperparameters for Decision Tree...\n",
            "Train Accuracy: 1.00\n",
            "Test Accuracy: 0.48\n",
            "Classification Report for Decision Tree:\n",
            "              precision    recall  f1-score   support\n",
            "\n",
            "    acrostic       0.40      0.25      0.31        24\n",
            "      ballad       0.32      0.62      0.42        13\n",
            "     epigram       0.25      0.35      0.29        20\n",
            "       haiku       0.48      0.45      0.47        22\n",
            "    limerick       0.75      0.83      0.79        18\n",
            "     sestina       0.67      0.48      0.56        21\n",
            "      sonnet       0.69      0.60      0.64        15\n",
            "  villanelle       0.56      0.45      0.50        22\n",
            "\n",
            "    accuracy                           0.48       155\n",
            "   macro avg       0.51      0.50      0.50       155\n",
            "weighted avg       0.51      0.48      0.49       155\n",
            "\n",
            "Tuning hyperparameters for Random Forest...\n",
            "Train Accuracy: 1.00\n",
            "Test Accuracy: 0.77\n",
            "Classification Report for Random Forest:\n",
            "              precision    recall  f1-score   support\n",
            "\n",
            "    acrostic       0.78      0.75      0.77        24\n",
            "      ballad       0.50      0.85      0.63        13\n",
            "     epigram       0.69      0.55      0.61        20\n",
            "       haiku       0.70      0.86      0.78        22\n",
            "    limerick       1.00      0.94      0.97        18\n",
            "     sestina       0.82      0.67      0.74        21\n",
            "      sonnet       0.76      0.87      0.81        15\n",
            "  villanelle       1.00      0.73      0.84        22\n",
            "\n",
            "    accuracy                           0.77       155\n",
            "   macro avg       0.78      0.78      0.77       155\n",
            "weighted avg       0.80      0.77      0.77       155\n",
            "\n",
            "Tuning hyperparameters for AdaBoost...\n",
            "Train Accuracy: 0.35\n",
            "Test Accuracy: 0.34\n",
            "Classification Report for AdaBoost:\n",
            "              precision    recall  f1-score   support\n",
            "\n",
            "    acrostic       0.29      0.17      0.21        24\n",
            "      ballad       0.22      0.85      0.34        13\n",
            "     epigram       0.44      0.35      0.39        20\n",
            "       haiku       0.40      0.73      0.52        22\n",
            "    limerick       1.00      0.17      0.29        18\n",
            "     sestina       0.39      0.57      0.46        21\n",
            "      sonnet       1.00      0.00      0.00        15\n",
            "  villanelle       1.00      0.00      0.00        22\n",
            "\n",
            "    accuracy                           0.34       155\n",
            "   macro avg       0.59      0.35      0.28       155\n",
            "weighted avg       0.58      0.34      0.28       155\n",
            "\n",
            "Tuning hyperparameters for XGBoost...\n",
            "Train Accuracy: 1.00\n",
            "Test Accuracy: 0.79\n",
            "Classification Report for XGBoost:\n",
            "              precision    recall  f1-score   support\n",
            "\n",
            "    acrostic       0.83      0.79      0.81        24\n",
            "      ballad       0.53      0.77      0.62        13\n",
            "     epigram       0.80      0.60      0.69        20\n",
            "       haiku       0.74      0.91      0.82        22\n",
            "    limerick       1.00      0.94      0.97        18\n",
            "     sestina       0.71      0.71      0.71        21\n",
            "      sonnet       0.81      0.87      0.84        15\n",
            "  villanelle       1.00      0.77      0.87        22\n",
            "\n",
            "    accuracy                           0.79       155\n",
            "   macro avg       0.80      0.80      0.79       155\n",
            "weighted avg       0.81      0.79      0.80       155\n",
            "\n",
            "Tuning hyperparameters for CatBoost...\n",
            "Train Accuracy: 1.00\n",
            "Test Accuracy: 0.84\n",
            "Classification Report for CatBoost:\n",
            "              precision    recall  f1-score   support\n",
            "\n",
            "    acrostic       0.89      0.71      0.79        24\n",
            "      ballad       0.69      0.85      0.76        13\n",
            "     epigram       0.82      0.70      0.76        20\n",
            "       haiku       0.69      0.91      0.78        22\n",
            "    limerick       1.00      0.94      0.97        18\n",
            "     sestina       0.90      0.90      0.90        21\n",
            "      sonnet       0.81      0.87      0.84        15\n",
            "  villanelle       0.95      0.86      0.90        22\n",
            "\n",
            "    accuracy                           0.84       155\n",
            "   macro avg       0.85      0.84      0.84       155\n",
            "weighted avg       0.85      0.84      0.84       155\n",
            "\n"
          ]
        }
      ],
      "source": [
        "results = {}\n",
        "\n",
        "X_train_scaled, X_test_scaled = scale_MinMax(X_train, X_test)\n",
        "\n",
        "for clf_name, clf in classifiers.items():\n",
        "    print(f\"Tuning hyperparameters for {clf_name}...\")\n",
        "    clf.fit(X_train_scaled, y_train)\n",
        "    train_accuracy = clf.score(X_train_scaled, y_train)\n",
        "    test_accuracy = clf.score(X_test_scaled, y_test)\n",
        "    print(f\"Train Accuracy: {train_accuracy:.2f}\")\n",
        "    print(f\"Test Accuracy: {test_accuracy:.2f}\")\n",
        "\n",
        "    # Generate classification report\n",
        "    print(f\"Classification Report for {clf_name}:\")\n",
        "    report = classification_report(y_test, clf.predict(X_test_scaled), target_names=class_labels, zero_division=1)\n",
        "    print(report)\n",
        "\n",
        "    # Store results\n",
        "    results[clf_name] = {\n",
        "        \"Train Accuracy\": train_accuracy,\n",
        "        \"Test Accuracy\": test_accuracy,\n",
        "        \"Classification Report\": report\n",
        "    }"
      ]
    },
    {
      "cell_type": "markdown",
      "metadata": {
        "id": "YXz2Xf_5ubh-"
      },
      "source": [
        "Create a DataFrame to tabulate the results"
      ]
    },
    {
      "cell_type": "code",
      "execution_count": 27,
      "metadata": {
        "id": "JwerqiL6uduL",
        "colab": {
          "base_uri": "https://localhost:8080/"
        },
        "outputId": "6cfb5175-77b2-4bae-b74d-18019746efcb"
      },
      "outputs": [
        {
          "metadata": {
            "tags": null
          },
          "name": "stdout",
          "output_type": "stream",
          "text": [
            "\n",
            "Results Summary:\n",
            "                                                             Naive Bayes  \\\n",
            "Train Accuracy                                                  0.746774   \n",
            "Test Accuracy                                                   0.683871   \n",
            "Classification Report                precision    recall  f1-score   ...   \n",
            "\n",
            "                                                  Support Vector Machine  \\\n",
            "Train Accuracy                                                  0.967742   \n",
            "Test Accuracy                                                   0.812903   \n",
            "Classification Report                precision    recall  f1-score   ...   \n",
            "\n",
            "                                                           Decision Tree  \\\n",
            "Train Accuracy                                                       1.0   \n",
            "Test Accuracy                                                   0.483871   \n",
            "Classification Report                precision    recall  f1-score   ...   \n",
            "\n",
            "                                                           Random Forest  \\\n",
            "Train Accuracy                                                       1.0   \n",
            "Test Accuracy                                                   0.767742   \n",
            "Classification Report                precision    recall  f1-score   ...   \n",
            "\n",
            "                                                                AdaBoost  \\\n",
            "Train Accuracy                                                      0.35   \n",
            "Test Accuracy                                                   0.341935   \n",
            "Classification Report                precision    recall  f1-score   ...   \n",
            "\n",
            "                                                                 XGBoost  \\\n",
            "Train Accuracy                                                       1.0   \n",
            "Test Accuracy                                                   0.793548   \n",
            "Classification Report                precision    recall  f1-score   ...   \n",
            "\n",
            "                                                                CatBoost  \n",
            "Train Accuracy                                                       1.0  \n",
            "Test Accuracy                                                    0.83871  \n",
            "Classification Report                precision    recall  f1-score   ...  \n"
          ]
        }
      ],
      "source": [
        "results_df = pd.DataFrame(results)\n",
        "print(\"\\nResults Summary:\")\n",
        "print(results_df)"
      ]
    }
  ],
  "metadata": {
    "accelerator": "GPU",
    "colab": {
      "gpuType": "T4",
      "provenance": [],
      "mount_file_id": "1H98XNwqkTFA8VILBjgvsYzVvubNIaCQr",
      "authorship_tag": "ABX9TyPyxoxrpplGFCjPlHX+tXt+",
      "include_colab_link": true
    },
    "kernelspec": {
      "display_name": "Python 3",
      "name": "python3"
    },
    "language_info": {
      "name": "python"
    }
  },
  "nbformat": 4,
  "nbformat_minor": 0
}