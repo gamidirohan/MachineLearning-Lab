{
  "nbformat": 4,
  "nbformat_minor": 0,
  "metadata": {
    "colab": {
      "provenance": [],
      "authorship_tag": "ABX9TyNpxK6jhgC7qOqEGgXfAOe7",
      "include_colab_link": true
    },
    "kernelspec": {
      "name": "python3",
      "display_name": "Python 3"
    },
    "language_info": {
      "name": "python"
    }
  },
  "cells": [
    {
      "cell_type": "markdown",
      "metadata": {
        "id": "view-in-github",
        "colab_type": "text"
      },
      "source": [
        "<a href=\"https://colab.research.google.com/github/gamidirohan/MachineLearning-Lab/blob/main/ELi5_Tool_Explanation.ipynb\" target=\"_parent\"><img src=\"https://colab.research.google.com/assets/colab-badge.svg\" alt=\"Open In Colab\"/></a>"
      ]
    },
    {
      "cell_type": "markdown",
      "source": [
        "## Testing ELi5 Explainable Tool"
      ],
      "metadata": {
        "id": "Zldm9yO8LOMq"
      }
    },
    {
      "cell_type": "code",
      "source": [
        "!pip install eli5\n",
        "!pip install catboost"
      ],
      "metadata": {
        "colab": {
          "base_uri": "https://localhost:8080/"
        },
        "id": "gGFau1wPLjnG",
        "outputId": "1aca45db-342b-4fcc-ba4a-0ae031c7aa86"
      },
      "execution_count": 4,
      "outputs": [
        {
          "output_type": "stream",
          "name": "stdout",
          "text": [
            "Requirement already satisfied: eli5 in /usr/local/lib/python3.10/dist-packages (0.13.0)\n",
            "Requirement already satisfied: attrs>17.1.0 in /usr/local/lib/python3.10/dist-packages (from eli5) (23.2.0)\n",
            "Requirement already satisfied: jinja2>=3.0.0 in /usr/local/lib/python3.10/dist-packages (from eli5) (3.1.3)\n",
            "Requirement already satisfied: numpy>=1.9.0 in /usr/local/lib/python3.10/dist-packages (from eli5) (1.25.2)\n",
            "Requirement already satisfied: scipy in /usr/local/lib/python3.10/dist-packages (from eli5) (1.11.4)\n",
            "Requirement already satisfied: six in /usr/local/lib/python3.10/dist-packages (from eli5) (1.16.0)\n",
            "Requirement already satisfied: scikit-learn>=0.20 in /usr/local/lib/python3.10/dist-packages (from eli5) (1.2.2)\n",
            "Requirement already satisfied: graphviz in /usr/local/lib/python3.10/dist-packages (from eli5) (0.20.3)\n",
            "Requirement already satisfied: tabulate>=0.7.7 in /usr/local/lib/python3.10/dist-packages (from eli5) (0.9.0)\n",
            "Requirement already satisfied: MarkupSafe>=2.0 in /usr/local/lib/python3.10/dist-packages (from jinja2>=3.0.0->eli5) (2.1.5)\n",
            "Requirement already satisfied: joblib>=1.1.1 in /usr/local/lib/python3.10/dist-packages (from scikit-learn>=0.20->eli5) (1.3.2)\n",
            "Requirement already satisfied: threadpoolctl>=2.0.0 in /usr/local/lib/python3.10/dist-packages (from scikit-learn>=0.20->eli5) (3.4.0)\n",
            "Requirement already satisfied: catboost in /usr/local/lib/python3.10/dist-packages (1.2.3)\n",
            "Requirement already satisfied: graphviz in /usr/local/lib/python3.10/dist-packages (from catboost) (0.20.3)\n",
            "Requirement already satisfied: matplotlib in /usr/local/lib/python3.10/dist-packages (from catboost) (3.7.1)\n",
            "Requirement already satisfied: numpy>=1.16.0 in /usr/local/lib/python3.10/dist-packages (from catboost) (1.25.2)\n",
            "Requirement already satisfied: pandas>=0.24 in /usr/local/lib/python3.10/dist-packages (from catboost) (1.5.3)\n",
            "Requirement already satisfied: scipy in /usr/local/lib/python3.10/dist-packages (from catboost) (1.11.4)\n",
            "Requirement already satisfied: plotly in /usr/local/lib/python3.10/dist-packages (from catboost) (5.15.0)\n",
            "Requirement already satisfied: six in /usr/local/lib/python3.10/dist-packages (from catboost) (1.16.0)\n",
            "Requirement already satisfied: python-dateutil>=2.8.1 in /usr/local/lib/python3.10/dist-packages (from pandas>=0.24->catboost) (2.8.2)\n",
            "Requirement already satisfied: pytz>=2020.1 in /usr/local/lib/python3.10/dist-packages (from pandas>=0.24->catboost) (2023.4)\n",
            "Requirement already satisfied: contourpy>=1.0.1 in /usr/local/lib/python3.10/dist-packages (from matplotlib->catboost) (1.2.0)\n",
            "Requirement already satisfied: cycler>=0.10 in /usr/local/lib/python3.10/dist-packages (from matplotlib->catboost) (0.12.1)\n",
            "Requirement already satisfied: fonttools>=4.22.0 in /usr/local/lib/python3.10/dist-packages (from matplotlib->catboost) (4.50.0)\n",
            "Requirement already satisfied: kiwisolver>=1.0.1 in /usr/local/lib/python3.10/dist-packages (from matplotlib->catboost) (1.4.5)\n",
            "Requirement already satisfied: packaging>=20.0 in /usr/local/lib/python3.10/dist-packages (from matplotlib->catboost) (24.0)\n",
            "Requirement already satisfied: pillow>=6.2.0 in /usr/local/lib/python3.10/dist-packages (from matplotlib->catboost) (9.4.0)\n",
            "Requirement already satisfied: pyparsing>=2.3.1 in /usr/local/lib/python3.10/dist-packages (from matplotlib->catboost) (3.1.2)\n",
            "Requirement already satisfied: tenacity>=6.2.0 in /usr/local/lib/python3.10/dist-packages (from plotly->catboost) (8.2.3)\n"
          ]
        }
      ]
    },
    {
      "cell_type": "code",
      "execution_count": 7,
      "metadata": {
        "colab": {
          "base_uri": "https://localhost:8080/"
        },
        "id": "3pf6cn7mLNLn",
        "outputId": "628c7139-b9b4-488a-b203-1f04ccad921a"
      },
      "outputs": [
        {
          "output_type": "stream",
          "name": "stdout",
          "text": [
            "Feature Importances:\n",
            "===========================================================\n",
            "Feature\t\t\t\t\tWeight\n",
            "-----------------------------------------------------------\n",
            "6                        0.060623\n",
            "174                      0.057320\n",
            "153                      0.055006\n",
            "148                      0.047238\n",
            "166                      0.044806\n",
            "147                      0.032363\n",
            "74                       0.030477\n",
            "46                       0.028953\n",
            "191                      0.026601\n",
            "17                       0.022418\n",
            "112                      0.018734\n",
            "103                      0.018230\n",
            "12                       0.016929\n",
            "109                      0.014576\n",
            "90                       0.014413\n",
            "72                       0.013971\n",
            "3                        0.013733\n",
            "7                        0.013302\n",
            "155                      0.013236\n",
            "115                      0.013136\n",
            "-----------------------------------------------------------\n",
            "\n",
            "Prediction Explanation:\n",
            "===========================================================\n",
            "Explanation(estimator='<catboost.core.CatBoostClassifier object at 0x7dd8a292f940>', description=None, error='estimator <catboost.core.CatBoostClassifier object at 0x7dd8a292f940> is not supported', method=None, is_regression=False, targets=None, feature_importances=None, decision_tree=None, highlight_spaces=None, transition_features=None, image=None)\n"
          ]
        }
      ],
      "source": [
        "import pandas as pd\n",
        "from sklearn.model_selection import train_test_split\n",
        "from sklearn.preprocessing import MinMaxScaler\n",
        "from catboost import CatBoostClassifier\n",
        "import pickle\n",
        "import os.path as path\n",
        "import eli5\n",
        "\n",
        "# Load dataset from CSV file\n",
        "csv_file = \"poems_data.csv\"\n",
        "data_df = pd.read_csv(csv_file)\n",
        "\n",
        "# Extract features and labels\n",
        "X = data_df.drop(columns=['label']).values\n",
        "y = data_df['label'].values\n",
        "\n",
        "# Split data into train and test sets\n",
        "X_train, X_test, y_train, y_test = train_test_split(X, y, test_size=0.2, random_state=42)\n",
        "\n",
        "# Apply MinMax scaling to input data\n",
        "scaler = MinMaxScaler()\n",
        "X_train_scaled = scaler.fit_transform(X_train)\n",
        "X_test_scaled = scaler.transform(X_test)\n",
        "\n",
        "# Define model file path\n",
        "model_file = \"catboost_model.pkl\"\n",
        "\n",
        "# Check if model file exists\n",
        "if path.exists(model_file):\n",
        "    # Load trained model from file\n",
        "    with open(model_file, 'rb') as f:\n",
        "        catboost_clf = pickle.load(f)\n",
        "else:\n",
        "    # Initialize CatBoost classifier\n",
        "    catboost_clf = CatBoostClassifier(logging_level='Silent')\n",
        "\n",
        "    # Train CatBoost classifier\n",
        "    catboost_clf.fit(X_train_scaled, y_train)\n",
        "\n",
        "    # Save trained model as a .pkl file\n",
        "    with open(model_file, 'wb') as f:\n",
        "        pickle.dump(catboost_clf, f)\n",
        "\n",
        "# Explain feature importances using ELI5\n",
        "explanation_weights = eli5.explain_weights(catboost_clf)\n",
        "print(\"Feature Importances:\")\n",
        "print(\"===========================================================\")\n",
        "print(\"Feature\\t\\t\\t\\t\\tWeight\")\n",
        "print(\"-----------------------------------------------------------\")\n",
        "for feature_weight in explanation_weights.feature_importances.importances:\n",
        "    print(f\"{feature_weight.feature.ljust(25)}{feature_weight.weight:.6f}\")\n",
        "print(\"-----------------------------------------------------------\")\n",
        "\n",
        "# Explain model's predictions using ELI5\n",
        "print(\"\\nPrediction Explanation:\")\n",
        "print(\"===========================================================\")\n",
        "print(explanation_prediction)"
      ]
    }
  ]
}