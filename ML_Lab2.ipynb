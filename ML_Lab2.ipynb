{
  "nbformat": 4,
  "nbformat_minor": 0,
  "metadata": {
    "colab": {
      "provenance": [],
      "authorship_tag": "ABX9TyOMrnNPLQu3eTgz8vF4w2nW",
      "include_colab_link": true
    },
    "kernelspec": {
      "name": "python3",
      "display_name": "Python 3"
    },
    "language_info": {
      "name": "python"
    }
  },
  "cells": [
    {
      "cell_type": "markdown",
      "metadata": {
        "id": "view-in-github",
        "colab_type": "text"
      },
      "source": [
        "<a href=\"https://colab.research.google.com/github/gamidirohan/MachineLearning-Lab/blob/main/ML_Lab2.ipynb\" target=\"_parent\"><img src=\"https://colab.research.google.com/assets/colab-badge.svg\" alt=\"Open In Colab\"/></a>"
      ]
    },
    {
      "cell_type": "markdown",
      "source": [
        "1. Write a function to calculate the Euclidean distance and Manhattan distance between two vectors. The vectors dimension is variable. Please don’t use any distance calculation\n",
        "functions available in Python."
      ],
      "metadata": {
        "id": "C61eFAtyA7yY"
      }
    },
    {
      "cell_type": "code",
      "source": [
        "import math\n",
        "\n",
        "def find_euclidean_dist(x, y, dim):\n",
        "  dist = 0\n",
        "  for i in range(dim):\n",
        "    dist += math.pow(x[i] - y[i], 2)\n",
        "  dist = math.sqrt(dist)\n",
        "  return dist\n",
        "\n",
        "def find_manhattan_dist(x, y, dim):\n",
        "  dist = 0\n",
        "  for i in range(dim):\n",
        "    dist += abs(x[i] - y[i])\n",
        "  return dist\n",
        "\n",
        "def input_vector(dim):\n",
        "  vector_str = input(f\"Enter {dim} coordinates: \")\n",
        "  vect = [float(x) for x in vector_str.split(\",\")]\n",
        "  return vect\n",
        "\n",
        "def main():\n",
        "  print(\"Enter vector values: \")\n",
        "  dim = int(input(\"Enter the dimensions of the vectors: \"))\n",
        "  x = input_vector(dim)\n",
        "  y = input_vector(dim)\n",
        "\n",
        "  choice = input(\"Choose one:\\n1. Measure distance using Euclidean distance formula.\\n2. Measure distance using Manhattan distance formula.\\n\")\n",
        "\n",
        "  if choice == \"1\":\n",
        "    dist = find_euclidean_dist(x, y, dim)\n",
        "    print(f\"Distance between the points is: {dist}\")\n",
        "  elif choice == \"2\":\n",
        "    dist = find_manhattan_dist(x, y, dim)\n",
        "    print(f\"Distance between the points is: {dist}\")\n",
        "  else:\n",
        "    print(\"Invalid input\")\n",
        "\n",
        "if __name__ == \"__main__\":\n",
        "  main()"
      ],
      "metadata": {
        "colab": {
          "base_uri": "https://localhost:8080/"
        },
        "id": "YUTmDRX6A-An",
        "outputId": "4eb62908-46dc-4ffc-c525-c4b976de0ae2"
      },
      "execution_count": 5,
      "outputs": [
        {
          "output_type": "stream",
          "name": "stdout",
          "text": [
            "Enter vector values: \n",
            "Enter the dimensions of the vectors: 2\n",
            "Enter 2 coordinates: 1,2\n",
            "Enter 2 coordinates: 6,7\n",
            "Choose one:\n",
            "1. Measure distance using Euclidean distance formula.\n",
            "2. Measure distance using Manhattan distance formula.\n",
            "1\n",
            "Distance between the points is: 7.0710678118654755\n"
          ]
        }
      ]
    },
    {
      "cell_type": "markdown",
      "source": [
        "2. Write a function to implement k-NN classifier. k is a variable and based on that the count of neighbors should be selected."
      ],
      "metadata": {
        "id": "QTxlaO_AJumO"
      }
    },
    {
      "cell_type": "code",
      "source": [
        "import math\n",
        "\n",
        "def euclidean_distance(point1, point2):\n",
        "    x1, y1 = point1\n",
        "    x2, y2, _ = point2  # Unpack point2, ignoring the category\n",
        "    return math.sqrt((x2 - x1) ** 2 + (y2 - y1) ** 2)\n",
        "\n",
        "def knn_classify(k, unclass_point, points):\n",
        "    # Split, convert to int and access the coords of the unclass_points\n",
        "    unclass_point = tuple(map(int, unclass_point.split(\",\")))\n",
        "\n",
        "    # Calculate Euclidean distance between every other point and this point\n",
        "    dist_dict = {name: euclidean_distance(unclass_point, point) for name, point in points.items()}\n",
        "\n",
        "    # Sort the dictionary\n",
        "    sorted_dist = sorted(dist_dict.items(), key=lambda x: x[1])\n",
        "\n",
        "    # Check the KNNs\n",
        "    knn = sorted_dist[:k]\n",
        "\n",
        "    # Count the occurrence of each class among the KNNs\n",
        "    class_count = {}\n",
        "    for point in knn:\n",
        "        point_class = points[point][-1]\n",
        "        if point_class in class_count:\n",
        "            class_count[point_class] += 1\n",
        "        else:\n",
        "            class_count[point_class] = 1\n",
        "\n",
        "    # Find the most frequent class among the KNNs\n",
        "    predicted_class = max(class_count, key=class_count.get)\n",
        "\n",
        "    # Return the predicted class\n",
        "    return predicted_class\n",
        "\n",
        "def main():\n",
        "    classified_points = {\n",
        "        \"Point1\": (2, 4, \"Class A\"),\n",
        "        \"Point2\": (5, 8, \"Class B\"),\n",
        "        \"Point3\": (1, 3, \"Class C\"),\n",
        "        \"Point4\": (6, 7, \"Class B\"),\n",
        "        \"Point5\": (7, 2, \"Class C\"),\n",
        "        \"Point6\": (3, 6, \"Class A\"),\n",
        "        \"Point7\": (4, 1, \"Class B\")\n",
        "    }\n",
        "\n",
        "    print(classified_points)\n",
        "\n",
        "    unclass_point = input(\"Enter the point coordinates to classify (comma-separated): \")\n",
        "    k = int(input(\"Enter the value of k to predict the class using k-Nearest Neighbors Algorithm: \"))\n",
        "    predicted_class = knn_classify(k, unclass_point, classified_points)\n",
        "    print(f\"The predicted category for the point entered is: {predicted_class}\")\n",
        "\n",
        "if __name__ == \"__main__\":\n",
        "    main()"
      ],
      "metadata": {
        "colab": {
          "base_uri": "https://localhost:8080/"
        },
        "id": "It4s9y5dJvjU",
        "outputId": "fa496ebb-1562-403d-9932-e9dd7a547b9f"
      },
      "execution_count": 3,
      "outputs": [
        {
          "output_type": "stream",
          "name": "stdout",
          "text": [
            "{'Point1': (2, 4, 'Class A'), 'Point2': (5, 8, 'Class B'), 'Point3': (1, 3, 'Class C'), 'Point4': (6, 7, 'Class B'), 'Point5': (7, 2, 'Class C'), 'Point6': (3, 6, 'Class A'), 'Point7': (4, 1, 'Class B')}\n",
            "Enter the point coordinates to classify (comma-separated): 2, 5\n",
            "Enter the value of k to predict the class using k-Nearest Neighbors Algorithm: 3\n",
            "The predicted category for the point entered is: Class A\n"
          ]
        }
      ]
    },
    {
      "cell_type": "markdown",
      "source": [
        "3. Write a function to convert categorical variables to numeric using label encoding. Don’t use any existing functionalities."
      ],
      "metadata": {
        "id": "H0hjtwOiQHyB"
      }
    },
    {
      "cell_type": "code",
      "source": [
        "def label_encode(categories):\n",
        "  category_to_id = {}\n",
        "  next_id = 0\n",
        "  for category in categories:\n",
        "    if category not in category_to_id:\n",
        "      category_to_id[category] = next_id\n",
        "      next_id += 1\n",
        "  return category_to_id\n",
        "\n",
        "def main():\n",
        "  num_categories = int(input(\"Enter the number of categories: \"))\n",
        "  categories = []\n",
        "  for i in range(num_categories):\n",
        "    category = input(f\"Enter category {i+1}: \")\n",
        "    categories.append(category)\n",
        "\n",
        "  encoded_categories = label_encode(categories)\n",
        "  print(encoded_categories)\n",
        "\n",
        "if __name__ == \"__main__\":\n",
        "  main()\n"
      ],
      "metadata": {
        "colab": {
          "base_uri": "https://localhost:8080/"
        },
        "id": "v0bGstpBQIXb",
        "outputId": "73a8100f-56a9-4d01-b5b3-671c92b26a2f"
      },
      "execution_count": 6,
      "outputs": [
        {
          "output_type": "stream",
          "name": "stdout",
          "text": [
            "Enter the number of categories: 3\n",
            "Enter category 1: A+\n",
            "Enter category 2: B-\n",
            "Enter category 3: C+\n",
            "{'A+': 0, 'B-': 1, 'C+': 2}\n"
          ]
        }
      ]
    },
    {
      "cell_type": "markdown",
      "source": [
        "4. Write a function to convert categorical variables to numeric using One-Hot encoding. Don’t use any existing functionalities."
      ],
      "metadata": {
        "id": "n7xMXh8iVIoP"
      }
    },
    {
      "cell_type": "code",
      "source": [
        "def one_hot_encode(categories):\n",
        "  unique_categories = set(categories)\n",
        "  encoded_categories = {}\n",
        "  for category in unique_categories:\n",
        "    encoded_category = [1 if c == category else 0 for c in categories]\n",
        "    encoded_categories[category] = encoded_category\n",
        "  return encoded_categories\n",
        "\n",
        "categories = [\"red\", \"blue\", \"red\", \"green\", \"blue\"]\n",
        "encoded_categories = one_hot_encode(categories)\n",
        "print(encoded_categories)"
      ],
      "metadata": {
        "id": "gMAa5yawVJa6"
      },
      "execution_count": null,
      "outputs": []
    }
  ]
}